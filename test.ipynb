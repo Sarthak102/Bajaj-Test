{
  "nbformat": 4,
  "nbformat_minor": 0,
  "metadata": {
    "colab": {
      "provenance": [],
      "authorship_tag": "ABX9TyPF23kJAQiNXqO3eaMlu6cj",
      "include_colab_link": true
    },
    "kernelspec": {
      "name": "python3",
      "display_name": "Python 3"
    },
    "language_info": {
      "name": "python"
    }
  },
  "cells": [
    {
      "cell_type": "markdown",
      "metadata": {
        "id": "view-in-github",
        "colab_type": "text"
      },
      "source": [
        "<a href=\"https://colab.research.google.com/github/Sarthak102/Bajaj-Test/blob/main/test.ipynb\" target=\"_parent\"><img src=\"https://colab.research.google.com/assets/colab-badge.svg\" alt=\"Open In Colab\"/></a>"
      ]
    },
    {
      "cell_type": "code",
      "execution_count": null,
      "metadata": {
        "colab": {
          "base_uri": "https://localhost:8080/"
        },
        "id": "sm2ntYwERYDZ",
        "outputId": "f7dbe8d1-a687-4b98-9dd0-b1f91329fe75"
      },
      "outputs": [
        {
          "output_type": "execute_result",
          "data": {
            "text/plain": [
              "('C', 69.6969696969697, 30.303030303030305, 2.13)"
            ]
          },
          "metadata": {},
          "execution_count": 1
        }
      ],
      "source": [
        "import json\n",
        "#Q 7,8,9)\n",
        "# Load the JSON data\n",
        "file_path = '/content/DataEngineeringQ2.json'\n",
        "with open(file_path, 'r') as file:\n",
        "    data = json.load(file)\n",
        "\n",
        "# Extract medicines data from each appointment\n",
        "medicines = []\n",
        "for appointment in data:\n",
        "    if 'consultationData' in appointment and 'medicines' in appointment['consultationData']:\n",
        "        medicines.extend(appointment['consultationData']['medicines'])\n",
        "\n",
        "# Extract medicine names and their active status\n",
        "medicine_names = [medicine['medicineName'] for medicine in medicines]\n",
        "active_statuses = [medicine['isActive'] for medicine in medicines]\n",
        "\n",
        "# Calculate the frequency of each medicine\n",
        "from collections import Counter\n",
        "medicine_counts = Counter(medicine_names)\n",
        "\n",
        "# Find the 3rd most frequently prescribed medicine name\n",
        "third_most_frequent_medicine = medicine_counts.most_common(3)[-1][0]\n",
        "\n",
        "# Calculate percentage distribution of active and inactive medicines\n",
        "total_medicines = len(active_statuses)\n",
        "active_medicines = active_statuses.count(True)\n",
        "inactive_medicines = active_statuses.count(False)\n",
        "\n",
        "active_percentage = (active_medicines / total_medicines) * 100\n",
        "inactive_percentage = (inactive_medicines / total_medicines) * 100\n",
        "\n",
        "# Calculate average number of medicines prescribed per appointment\n",
        "average_medicines_per_appointment = len(medicines) / len(data)\n",
        "\n",
        "# Round the average to 2 decimal places\n",
        "average_medicines_per_appointment = round(average_medicines_per_appointment, 2)\n",
        "\n",
        "third_most_frequent_medicine, active_percentage, inactive_percentage, average_medicines_per_appointment\n"
      ]
    },
    {
      "cell_type": "code",
      "source": [
        "#Q4)\n",
        "import json\n",
        "\n",
        "# Load the JSON data\n",
        "with open('/content/DataEngineeringQ2.json') as f:\n",
        "    data = json.load(f)\n",
        "\n",
        "def calculate_missing_percentage(values):\n",
        "    if values is None:\n",
        "        return 100.0  # If the list itself is None, return 100%\n",
        "    missing_count = sum(1 for value in values if value is None or not value.strip())\n",
        "    total_count = len(values)\n",
        "    if total_count == 0:\n",
        "        return 100.0  # If the list is empty, return 100%\n",
        "    return round((missing_count / total_count) * 100, 2)\n",
        "\n",
        "# Extract relevant fields from the JSON data\n",
        "first_names = [entry['patientDetails'].get('firstName', '') for entry in data]\n",
        "last_names = [entry['patientDetails'].get('lastName', '') for entry in data]\n",
        "birth_dates = [entry['patientDetails'].get('birthDate') for entry in data]\n",
        "\n",
        "# Calculate missing percentages\n",
        "first_name_missing_pct = calculate_missing_percentage(first_names)\n",
        "last_name_missing_pct = calculate_missing_percentage(last_names)\n",
        "birth_date_missing_pct = calculate_missing_percentage(birth_dates)\n",
        "\n",
        "# Formatting result as comma-separated values\n",
        "result = f\"{first_name_missing_pct}, {last_name_missing_pct}, {birth_date_missing_pct}\"\n",
        "print(result)\n"
      ],
      "metadata": {
        "colab": {
          "base_uri": "https://localhost:8080/"
        },
        "id": "N8oVSQZtVHQ0",
        "outputId": "2e4952ea-42cf-4f22-8322-1b54eaac4a0a"
      },
      "execution_count": null,
      "outputs": [
        {
          "output_type": "stream",
          "name": "stdout",
          "text": [
            "0.0, 70.97, 32.26\n"
          ]
        }
      ]
    },
    {
      "cell_type": "code",
      "source": [
        "from datetime import datetime\n",
        "#Q6)\n",
        "# Function to calculate age from birthdate\n",
        "def calculate_age(birthdate):\n",
        "    if birthdate:\n",
        "        birthdate = datetime.strptime(birthdate, '%Y-%m-%dT%H:%M:%S.%fZ')\n",
        "        today = datetime.today()\n",
        "        return today.year - birthdate.year - ((today.month, today.day) < (birthdate.month, birthdate.day))\n",
        "    return None\n",
        "\n",
        "# Function to determine age group\n",
        "def determine_age_group(age):\n",
        "    if age is None:\n",
        "        return None\n",
        "    if age <= 12:\n",
        "        return 'Child'\n",
        "    elif 13 <= age <= 19:\n",
        "        return 'Teen'\n",
        "    elif 20 <= age <= 59:\n",
        "        return 'Adult'\n",
        "    else:\n",
        "        return 'Senior'\n",
        "\n",
        "# Extract patient details and calculate age groups\n",
        "patient_ages = []\n",
        "for appointment in data:\n",
        "    patient_details = appointment.get('patientDetails', {})\n",
        "    birthdate = patient_details.get('birthDate')\n",
        "    age = calculate_age(birthdate)\n",
        "    age_group = determine_age_group(age)\n",
        "    patient_ages.append(age_group)\n",
        "\n",
        "# Count the number of Adults\n",
        "adult_count = patient_ages.count('Adult')\n",
        "\n",
        "#Q5)\n",
        "# Gender Imputation: Find the mode of the gender column\n",
        "genders = []\n",
        "for appointment in data:\n",
        "    patient_details = appointment.get('patientDetails', {})\n",
        "    gender = patient_details.get('gender', '').strip()\n",
        "    if gender:\n",
        "        genders.append(gender)\n",
        "\n",
        "# Calculate mode of genders\n",
        "gender_mode = Counter(genders).most_common(1)[0][0]\n",
        "\n",
        "# Impute missing genders with the mode\n",
        "for appointment in data:\n",
        "    patient_details = appointment.get('patientDetails', {})\n",
        "    if not patient_details.get('gender'):\n",
        "        patient_details['gender'] = gender_mode\n",
        "\n",
        "# Calculate percentage of female gender after imputation\n",
        "total_patients = len(data)\n",
        "female_count = sum(1 for appointment in data if appointment.get('patientDetails', {}).get('gender') == 'F')\n",
        "\n",
        "female_percentage = (female_count / total_patients) * 100\n",
        "female_percentage = round(female_percentage, 2)\n",
        "\n",
        "adult_count, female_percentage\n"
      ],
      "metadata": {
        "colab": {
          "base_uri": "https://localhost:8080/"
        },
        "id": "lnT3AuXbTm-0",
        "outputId": "35c39b97-54d6-4895-d72b-dc1e5af35b3c"
      },
      "execution_count": null,
      "outputs": [
        {
          "output_type": "execute_result",
          "data": {
            "text/plain": [
              "(21, 32.26)"
            ]
          },
          "metadata": {},
          "execution_count": 2
        }
      ]
    },
    {
      "cell_type": "code",
      "source": [
        "import json\n",
        "\n",
        "# Load the JSON data\n",
        "with open('/content/DataEngineeringQ2.json') as f:\n",
        "    data = json.load(f)\n",
        "\n",
        "def is_valid_indian_phone_number(phone_number):\n",
        "    # Remove leading '+91' or '91' if present\n",
        "    if phone_number.startswith('+91'):\n",
        "        phone_number = phone_number[3:]\n",
        "    elif phone_number.startswith('91'):\n",
        "        phone_number = phone_number[2:]\n",
        "\n",
        "    # Check if the remaining number has 10 digits and starts with a valid digit\n",
        "    if len(phone_number) == 10 and phone_number.isdigit() and phone_number[0] in '6789':\n",
        "        return True\n",
        "    return False\n",
        "\n",
        "# Add 'isValidMobile' column and count valid phone numbers\n",
        "valid_count = 0\n",
        "for entry in data:\n",
        "    phone_number = entry['patientDetails'].get('phoneNumber', '')\n",
        "    is_valid = is_valid_indian_phone_number(phone_number)\n",
        "    entry['isValidMobile'] = is_valid\n",
        "    if is_valid:\n",
        "        valid_count += 1\n",
        "\n",
        "valid_count\n"
      ],
      "metadata": {
        "id": "TChKrtKfU8GO",
        "colab": {
          "base_uri": "https://localhost:8080/"
        },
        "outputId": "945af7ca-d400-40a5-9970-9acde39f21eb"
      },
      "execution_count": 12,
      "outputs": [
        {
          "output_type": "execute_result",
          "data": {
            "text/plain": [
              "0"
            ]
          },
          "metadata": {},
          "execution_count": 12
        }
      ]
    },
    {
      "cell_type": "code",
      "source": [],
      "metadata": {
        "id": "J5Fu0N60bp92"
      },
      "execution_count": null,
      "outputs": []
    }
  ]
}